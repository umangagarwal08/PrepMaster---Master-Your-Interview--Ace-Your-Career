{
 "cells": [
  {
   "cell_type": "code",
   "execution_count": null,
   "metadata": {},
   "outputs": [],
   "source": [
    "import google.generativeai as genai   # type: ignore # genai model\""
   ]
  },
  {
   "cell_type": "code",
   "execution_count": 25,
   "metadata": {},
   "outputs": [],
   "source": [
    "import os"
   ]
  },
  {
   "cell_type": "code",
   "execution_count": 26,
   "metadata": {},
   "outputs": [],
   "source": [
    "my_api_key=os.getenv(\"GOOGLE-API-KEY\")"
   ]
  },
  {
   "cell_type": "code",
   "execution_count": 27,
   "metadata": {},
   "outputs": [],
   "source": [
    "\n",
    "genai.configure(api_key=my_api_key)\n",
    "\n",
    "model = genai.GenerativeModel(\"gemini-1.5-flash\") \n"
   ]
  },
  {
   "cell_type": "code",
   "execution_count": 33,
   "metadata": {},
   "outputs": [],
   "source": [
    "company=\"Google\"\n",
    "topic=\"Machine Learning\""
   ]
  },
  {
   "cell_type": "code",
   "execution_count": 34,
   "metadata": {},
   "outputs": [],
   "source": [
    "coding_based=f\"Generate a set of tricky coding interview questions for {company} company in which we have to code focused on the topic: \"+topic+\"\"\" Organize \n",
    "      the questions into three difficulty levels — easy, medium, and hard —\n",
    "      with at least 10 questions in each category.\n",
    "      Easy: Create questions that test basic understanding of the topic, \n",
    "      including fundamental concepts, simple problem-solving, and standard coding challenges.\n",
    "      Medium: Develop questions that require deeper problem-solving skills and intermediate\n",
    "        knowledge of the topic, including algorithm optimization, handling edge cases, and applying theoretical knowledge in code.\n",
    "      Hard: Formulate challenging questions that demand advanced problem-solving abilities and \n",
    "      comprehensive understanding of the topic, such as complex algorithms, data structure manipulation, and optimized solutions for real-world scenarios.\n",
    "      For each question,provide a hint or explanation in next line that will help the candidate approach the \n",
    "      problem or understand the concepts required to solve it. Hints should be concise, highlighting \n",
    "      key ideas, useful steps, or strategies for problem-solving.\"\"\""
   ]
  },
  {
   "cell_type": "code",
   "execution_count": 35,
   "metadata": {},
   "outputs": [],
   "source": [
    "res=model.generate_content(coding_based)"
   ]
  },
  {
   "cell_type": "code",
   "execution_count": 36,
   "metadata": {},
   "outputs": [
    {
     "name": "stdout",
     "output_type": "stream",
     "text": [
      "## Google Coding Interview Questions: Machine Learning Organization\n",
      "\n",
      "### Easy\n",
      "\n",
      "1. **Implement a function to calculate the mean of a list of numbers.**\n",
      "    * Hint: Sum all numbers and divide by the length of the list.\n",
      "\n",
      "2. **Given a dataset of customer purchase history, write a function to find the most frequent purchase item.**\n",
      "    * Hint: Use a dictionary to store the count of each item and find the key with the maximum value.\n",
      "\n",
      "3. **Implement a function to split a dataset into training and testing sets with a given ratio.**\n",
      "    * Hint: Use random sampling to divide the dataset proportionally.\n",
      "\n",
      "4. **Write a function to calculate the accuracy of a classification model given its predictions and true labels.**\n",
      "    * Hint: Calculate the number of correct predictions and divide by the total number of predictions.\n",
      "\n",
      "5. **Given a list of feature names and their corresponding values, implement a function to create a feature vector.**\n",
      "    * Hint: Store the feature values in a dictionary or a list.\n",
      "\n",
      "6. **Write a function to perform simple data normalization (min-max scaling) on a list of numbers.**\n",
      "    * Hint: Subtract the minimum value from each number and divide by the difference between the maximum and minimum values.\n",
      "\n",
      "7. **Implement a function to perform one-hot encoding on a categorical variable.**\n",
      "    * Hint: Create a new column for each unique value of the categorical variable and set the value to 1 for the corresponding category.\n",
      "\n",
      "8. **Given a list of data points, write a function to calculate the Euclidean distance between two points.**\n",
      "    * Hint: Use the formula for Euclidean distance: sqrt(sum((x1[i] - x2[i])^2 for i in range(len(x1))))\n",
      "\n",
      "9. **Write a function to implement a simple linear regression model using gradient descent.**\n",
      "    * Hint: Start with initial values for the coefficients, update them iteratively based on the gradient of the loss function, and repeat until convergence.\n",
      "\n",
      "10. **Implement a function to evaluate the performance of a classification model using precision, recall, and F1-score.**\n",
      "    * Hint: Calculate the number of true positives, true negatives, false positives, and false negatives to derive the metrics.\n",
      "\n",
      "### Medium\n",
      "\n",
      "1. **Given a dataset with missing values, implement a function to handle them using different imputation techniques like mean, median, or mode imputation.**\n",
      "    * Hint: Choose the appropriate imputation technique based on the data distribution and the nature of missing values.\n",
      "\n",
      "2. **Write a function to perform feature scaling using standardization (Z-score normalization).**\n",
      "    * Hint: Subtract the mean and divide by the standard deviation for each feature.\n",
      "\n",
      "3. **Implement a function to calculate the correlation between two features in a dataset.**\n",
      "    * Hint: Use the Pearson correlation coefficient formula.\n",
      "\n",
      "4. **Given a set of features, write a function to perform feature selection using a feature importance technique like chi-squared test or mutual information.**\n",
      "    * Hint: Select features that have a significant impact on the target variable.\n",
      "\n",
      "5. **Implement a function to perform k-fold cross-validation for a given machine learning model.**\n",
      "    * Hint: Divide the dataset into k folds, train the model on k-1 folds and evaluate on the remaining fold, repeat for all k folds.\n",
      "\n",
      "6. **Write a function to evaluate the performance of a regression model using mean squared error (MSE) and root mean squared error (RMSE).**\n",
      "    * Hint: Calculate the difference between predicted and actual values and use the respective formulas.\n",
      "\n",
      "7. **Given a dataset with imbalanced classes, implement a function to handle class imbalance using techniques like oversampling, undersampling, or cost-sensitive learning.**\n",
      "    * Hint: Choose the appropriate technique based on the severity of imbalance and the nature of the data.\n",
      "\n",
      "8. **Implement a function to create a decision tree model using the ID3 algorithm.**\n",
      "    * Hint: Use the information gain to choose the best feature for splitting the data at each node.\n",
      "\n",
      "9. **Write a function to perform hyperparameter tuning for a given machine learning model using grid search or random search.**\n",
      "    * Hint: Define a range of values for each hyperparameter and evaluate the model performance for different combinations.\n",
      "\n",
      "10. **Given a dataset of user reviews, implement a function to perform sentiment analysis using a pre-trained model like BERT or GloVe.**\n",
      "    * Hint: Use a pre-trained language model to extract sentiment features from the reviews and classify them as positive, negative, or neutral.\n",
      "\n",
      "### Hard\n",
      "\n",
      "1. **Implement a function to train a neural network model using backpropagation and stochastic gradient descent (SGD).**\n",
      "    * Hint: Calculate the gradients for each layer, update the weights and biases based on the gradients, and repeat the process for multiple epochs.\n",
      "\n",
      "2. **Write a function to implement a support vector machine (SVM) model with a Gaussian kernel.**\n",
      "    * Hint: Use the kernel trick to transform the data into a higher-dimensional space where it is linearly separable.\n",
      "\n",
      "3. **Given a time series dataset, implement a function to predict future values using an autoregressive (AR) model.**\n",
      "    * Hint: Use the past values of the time series to predict future values.\n",
      "\n",
      "4. **Implement a function to perform dimensionality reduction using Principal Component Analysis (PCA).**\n",
      "    * Hint: Calculate the eigenvectors and eigenvalues of the covariance matrix and select the components with the highest variance.\n",
      "\n",
      "5. **Write a function to implement a clustering algorithm like k-means or hierarchical clustering.**\n",
      "    * Hint: Initialize cluster centroids randomly, assign data points to the closest centroid, update centroids based on assigned points, and repeat until convergence.\n",
      "\n",
      "6. **Given a dataset with non-linear relationships, implement a function to train a decision tree model using the CART algorithm.**\n",
      "    * Hint: Use Gini impurity or entropy to measure the purity of each node and choose the feature with the highest information gain for splitting.\n",
      "\n",
      "7. **Implement a function to perform anomaly detection using a one-class support vector machine (OCSVM).**\n",
      "    * Hint: Train an SVM on the normal data points and use it to detect anomalies based on the distance from the decision boundary.\n",
      "\n",
      "8. **Given a set of images, implement a function to train a convolutional neural network (CNN) model for image classification.**\n",
      "    * Hint: Use convolutional layers to extract features from images, pooling layers to reduce dimensionality, and fully connected layers for classification.\n",
      "\n",
      "9. **Write a function to implement a reinforcement learning algorithm like Q-learning to train an agent to solve a given task.**\n",
      "    * Hint: Define a reward function for the agent, update the Q-values based on the rewards and actions taken, and use the Q-values to choose the optimal action at each step.\n",
      "\n",
      "10. **Implement a function to perform natural language processing (NLP) tasks like text summarization, machine translation, or text classification using a pre-trained language model like GPT-3 or BERT.**\n",
      "    * Hint: Use the language model to extract relevant information from the input text and generate the desired output.\n",
      "\n",
      "These questions are intended to provide a framework for your interview preparations. Remember that the actual questions may vary depending on the specific role and the interviewer's preference.\n",
      "\n"
     ]
    }
   ],
   "source": [
    "print(res.text)"
   ]
  },
  {
   "cell_type": "code",
   "execution_count": 40,
   "metadata": {},
   "outputs": [],
   "source": [
    "theory_based=f\"Generate three types of easy to  medium interview questions for  {company} company on \"+ topic+\":\\\n",
    "                    - **Conceptual** questions to assess basic knowledge of the topic.\\\n",
    "                    - **Applied** questions that require practical application of the topic.\\\n",
    "                    - **Scenario-based** questions, where the candidate has to apply knowledge in a real-world scenario.\\\n",
    "                    For each interview question generated, provide a hint \\\n",
    "                                 or explanation in next line that can help the student understand how to \\\n",
    "                                 approach or answer the question. These hints should give a \\\n",
    "                                 concise explanation of key concepts or provide steps for \\\n",
    "                                 solving the question Generate atleat 10 question of each type give the hint in next line\"\n",
    "    \n",
    "theory_ans=model.generate_content(theory_based)"
   ]
  },
  {
   "cell_type": "code",
   "execution_count": 42,
   "metadata": {},
   "outputs": [
    {
     "name": "stdout",
     "output_type": "stream",
     "text": [
      "## Google Machine Learning Interview Questions:\n",
      "\n",
      "**Conceptual Questions:**\n",
      "\n",
      "1. **What are the key differences between supervised, unsupervised, and reinforcement learning?**\n",
      "    * **Hint:**  Focus on the nature of the data, the goal of the learning process, and the presence or absence of labeled data.\n",
      "2. **Explain the concept of bias-variance trade-off in machine learning models. How does it impact model performance?**\n",
      "    * **Hint:** Describe how bias and variance affect the model's ability to generalize to unseen data. Discuss how increasing one often leads to a decrease in the other.\n",
      "3. **What are the main components of a neural network? Describe their functions.**\n",
      "    * **Hint:** Discuss the structure of a neural network, including neurons, layers, activation functions, weights, and biases. Briefly explain their role in processing data.\n",
      "4. **What is the purpose of a loss function in machine learning? Provide an example.**\n",
      "    * **Hint:** Explain how a loss function quantifies the difference between the predicted and actual outputs. Provide examples like Mean Squared Error (MSE) or Cross-Entropy loss.\n",
      "5. **Explain the concept of overfitting in machine learning and discuss methods to mitigate it.**\n",
      "    * **Hint:** Describe the phenomenon of a model performing well on training data but poorly on unseen data. Discuss techniques like regularization, early stopping, and cross-validation.\n",
      "6. **What is the difference between precision, recall, and F1-score? How are they used to evaluate a classification model?**\n",
      "    * **Hint:** Explain each metric's definition and their relevance to different aspects of model performance. Discuss their importance for tasks with imbalanced datasets.\n",
      "7. **Explain the concept of gradient descent and its role in training machine learning models.**\n",
      "    * **Hint:** Describe how gradient descent iteratively updates model parameters to minimize a loss function. Discuss its different variations and their advantages.\n",
      "8. **What are the advantages and disadvantages of using decision trees for classification?**\n",
      "    * **Hint:** Discuss the interpretability, handling of categorical data, and potential for overfitting associated with decision trees.\n",
      "9. **Explain the concept of a support vector machine (SVM). When is it a suitable choice for classification?**\n",
      "    * **Hint:** Describe the goal of SVM to find the optimal hyperplane that separates classes. Discuss scenarios where it excels, like handling high-dimensional data and finding non-linear boundaries.\n",
      "10. **What are the key differences between a generative and a discriminative model? Provide examples of each.**\n",
      "    * **Hint:**  Focus on the model's goal (generating new data vs. classifying existing data) and their typical applications (e.g., image generation vs. sentiment analysis).\n",
      "\n",
      "**Applied Questions:**\n",
      "\n",
      "1. **You have a dataset with a highly imbalanced class distribution. Explain how you would handle this problem during model training.**\n",
      "    * **Hint:** Discuss techniques like oversampling, undersampling, cost-sensitive learning, and adjusting the evaluation metrics.\n",
      "2. **How would you approach a problem where you have limited labeled data but a large amount of unlabeled data?**\n",
      "    * **Hint:** Describe approaches like semi-supervised learning, transfer learning, or data augmentation to leverage the unlabeled data.\n",
      "3. **Given a dataset of customer reviews, explain how you would build a model to classify them as positive, negative, or neutral.**\n",
      "    * **Hint:** Discuss feature engineering (text preprocessing, sentiment scores, etc.) and choosing an appropriate classification model.\n",
      "4. **Explain how you would use a machine learning model to predict the price of a house based on its features.**\n",
      "    * **Hint:** Discuss feature selection, model choice (linear regression, decision trees, etc.), and evaluating model performance.\n",
      "5. **You are tasked with building a recommendation system for a music streaming service. Explain your approach and key considerations.**\n",
      "    * **Hint:**  Discuss collaborative filtering, content-based filtering, and hybrid approaches. Consider factors like user preferences, song features, and real-time interactions.\n",
      "6. **Describe the process of feature engineering for a machine learning model. What are some common techniques used?**\n",
      "    * **Hint:** Discuss techniques like feature extraction, feature selection, and feature transformation. Provide examples like one-hot encoding, scaling, and dimensionality reduction.\n",
      "7. **Explain the difference between L1 and L2 regularization. When would you choose one over the other?**\n",
      "    * **Hint:** Describe their impact on model parameters and how they influence model complexity. Discuss scenarios where each technique is more effective.\n",
      "8. **How would you approach a machine learning problem with high dimensionality?**\n",
      "    * **Hint:** Discuss techniques like dimensionality reduction (PCA, t-SNE), feature selection, and using models suited for high-dimensional data.\n",
      "9. **How would you evaluate the performance of a machine learning model? What metrics are important to consider?**\n",
      "    * **Hint:** Discuss metrics like accuracy, precision, recall, F1-score, AUC, and RMSE. Explain their relevance based on the specific task and data distribution.\n",
      "10. **Explain how you would deploy a machine learning model for real-time prediction in a production environment.**\n",
      "    * **Hint:**  Discuss considerations like model serving, infrastructure, monitoring, and continuous improvement.\n",
      "\n",
      "**Scenario-Based Questions:**\n",
      "\n",
      "1. **Imagine you are building a system to detect fraudulent transactions in a bank. Explain how you would approach this problem using machine learning. What are the potential challenges and how would you address them?**\n",
      "    * **Hint:** Discuss data collection, feature engineering, model selection, and handling class imbalance. Highlight challenges like evolving fraud patterns and maintaining model performance.\n",
      "2. **You are working on a project to develop a chatbot for customer service. What are some key considerations and challenges you would face in building an effective chatbot using machine learning?**\n",
      "    * **Hint:** Discuss natural language processing techniques, intent recognition, and dialogue management. Consider challenges like handling user queries, maintaining context, and ensuring accuracy.\n",
      "3. **Imagine you are building a self-driving car system. How would you apply machine learning to enable the car to make decisions about navigation and safety?**\n",
      "    * **Hint:** Discuss computer vision for object detection and lane recognition. Discuss techniques like reinforcement learning for autonomous decision-making.\n",
      "4. **You are tasked with building a system to predict customer churn for a streaming service. How would you leverage machine learning to identify customers at risk of leaving?**\n",
      "    * **Hint:**  Discuss identifying key features (usage patterns, engagement, demographics, etc.) and using classification models to predict churn.\n",
      "5. **A company wants to personalize product recommendations for its customers. How would you leverage machine learning to create a personalized recommendation system?**\n",
      "    * **Hint:**  Discuss collaborative filtering, content-based filtering, and hybrid approaches. Consider user behavior, item characteristics, and real-time interaction data.\n",
      "6. **You are tasked with building a system to detect spam emails. Explain how you would use machine learning to classify emails as spam or legitimate.**\n",
      "    * **Hint:**  Discuss techniques for text feature extraction, building a classifier (e.g., Naive Bayes, SVM), and dealing with evolving spam tactics.\n",
      "7. **A company wants to use machine learning to improve the efficiency of its manufacturing process. Explain how you would approach this problem and what data you would need to gather.**\n",
      "    * **Hint:**  Discuss process optimization, anomaly detection, and predictive maintenance. Consider gathering data on production parameters, sensor readings, and historical performance.\n",
      "8. **How would you approach a problem where you need to predict the likelihood of a customer clicking on an ad? What factors would you consider?**\n",
      "    * **Hint:** Discuss feature engineering (user demographics, ad relevance, browsing history), model selection, and evaluating the model's performance in terms of click-through rate.\n",
      "9. **Imagine you are working on a project to develop a medical diagnosis system. Explain how you would use machine learning to identify potential diseases from patient data.**\n",
      "    * **Hint:**  Discuss medical image analysis, patient history, and laboratory results. Consider ethical implications and the importance of accuracy and reliability in medical diagnosis.\n",
      "10. **You are building a system to predict the popularity of a news article. What features would you consider and what machine learning techniques would you use to achieve this goal?**\n",
      "    * **Hint:**  Discuss features like article content, author, publication time, and social media engagement. Consider using regression models to predict the number of views or shares.\n",
      "\n",
      "Remember that these are just examples, and the specific questions asked in a Google interview will vary depending on the role and the interviewer's focus. However, these questions should give you a good starting point for preparing for a Google Machine Learning interview. \n",
      "\n"
     ]
    }
   ],
   "source": [
    "print(theory_ans.text)"
   ]
  },
  {
   "cell_type": "code",
   "execution_count": null,
   "metadata": {},
   "outputs": [],
   "source": [
    "# app.py\n",
    "\n",
    "import streamlit as st\n",
    "from analysis import model_gen  # type: ignore # Import the model_gen function from analysis.py\n",
    "\n",
    "# App Title\n",
    "st.title(\"Smart Interview Question Generator\")\n",
    "\n",
    "# App Description\n",
    "st.write(\"\"\"\n",
    "This tool helps you generate interview questions based on a topic. Simply enter a topic below, \n",
    "and get interview questions to help you prepare!\n",
    "\"\"\")\n",
    "\n",
    "# Input for Topic\n",
    "topic = st.text_input(\"Enter the Topic (e.g., Python basics, Data structures, Machine learning)\")\n",
    "company = st.text_input(\"Enter the Company name if you are \")\n",
    "\n",
    "st.sidebar.markdown(\"Created by Umang Agarwal\")\n",
    "st.sidebar.markdown(\"Linkedin:https://www.linkedin.com/in/umangagarwal08/\")\n",
    "# Submit Button\n",
    "if st.button(\"Generate Questions\"):\n",
    "    if topic:\n",
    "        # Display loading spinner while generating questions\n",
    "        with st.spinner(\"Generating questions...\"):\n",
    "            try:\n",
    "                # Call the model_gen function from analysis.py with the entered topic\n",
    "                st.markdown(model_gen(topic=topic))\n",
    "                \n",
    "            except Exception as e:\n",
    "                st.error(f\"An error occurred: {e}\")\n",
    "    else:\n",
    "        st.warning(\"Please enter a topic to generate questions.\")\n",
    "\n",
    "\n"
   ]
  },
  {
   "cell_type": "code",
   "execution_count": 44,
   "metadata": {},
   "outputs": [
    {
     "ename": "ModuleNotFoundError",
     "evalue": "No module named 'streamlit'",
     "output_type": "error",
     "traceback": [
      "\u001b[1;31m---------------------------------------------------------------------------\u001b[0m",
      "\u001b[1;31mModuleNotFoundError\u001b[0m                       Traceback (most recent call last)",
      "Cell \u001b[1;32mIn[44], line 1\u001b[0m\n\u001b[1;32m----> 1\u001b[0m \u001b[38;5;28;01mfrom\u001b[39;00m \u001b[38;5;21;01manalysis\u001b[39;00m \u001b[38;5;28;01mimport\u001b[39;00m coding_ques\n",
      "File \u001b[1;32md:\\Python\\Project\\Interview-Preparation\\analysis.py:1\u001b[0m\n\u001b[1;32m----> 1\u001b[0m \u001b[38;5;28;01mimport\u001b[39;00m \u001b[38;5;21;01mstreamlit\u001b[39;00m \u001b[38;5;28;01mas\u001b[39;00m \u001b[38;5;21;01mst\u001b[39;00m\n\u001b[0;32m      2\u001b[0m \u001b[38;5;28;01mimport\u001b[39;00m \u001b[38;5;21;01mgoogle\u001b[39;00m\u001b[38;5;21;01m.\u001b[39;00m\u001b[38;5;21;01mgenerativeai\u001b[39;00m \u001b[38;5;28;01mas\u001b[39;00m \u001b[38;5;21;01mgenai\u001b[39;00m \u001b[38;5;66;03m# type: ignore\u001b[39;00m\n\u001b[0;32m      4\u001b[0m \u001b[38;5;28;01mimport\u001b[39;00m \u001b[38;5;21;01mos\u001b[39;00m\n",
      "\u001b[1;31mModuleNotFoundError\u001b[0m: No module named 'streamlit'"
     ]
    }
   ],
   "source": [
    "from analysis import coding_ques"
   ]
  },
  {
   "cell_type": "code",
   "execution_count": null,
   "metadata": {},
   "outputs": [],
   "source": []
  }
 ],
 "metadata": {
  "kernelspec": {
   "display_name": "Python 3",
   "language": "python",
   "name": "python3"
  },
  "language_info": {
   "codemirror_mode": {
    "name": "ipython",
    "version": 3
   },
   "file_extension": ".py",
   "mimetype": "text/x-python",
   "name": "python",
   "nbconvert_exporter": "python",
   "pygments_lexer": "ipython3",
   "version": "3.11.0"
  }
 },
 "nbformat": 4,
 "nbformat_minor": 2
}
